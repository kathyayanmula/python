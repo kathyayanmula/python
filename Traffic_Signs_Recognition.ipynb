{
 "cells": [
  {
   "cell_type": "markdown",
   "metadata": {},
   "source": [
    "# Self-Driving Car Engineer Nanodegree\n",
    "\n",
    "## Deep Learning\n",
    "\n",
    "## Project: Build a Traffic Sign Recognition Classifier\n",
    "\n",
    "In this notebook, a template is provided for you to implement your functionality in stages which is required to successfully complete this project. If additional code is required that cannot be included in the notebook, be sure that the Python code is successfully imported and included in your submission, if necessary. Sections that begin with **'Implementation'** in the header indicate where you should begin your implementation for your project. Note that some sections of implementation are optional, and will be marked with **'Optional'** in the header.\n",
    "\n",
    "In addition to implementing code, there will be questions that you must answer which relate to the project and your implementation. Each section where you will answer a question is preceded by a **'Question'** header. Carefully read each question and provide thorough answers in the following text boxes that begin with **'Answer:'**. Your project submission will be evaluated based on your answers to each of the questions and the implementation you provide.\n",
    "\n",
    ">**Note:** Code and Markdown cells can be executed using the **Shift + Enter** keyboard shortcut. In addition, Markdown cells can be edited by typically double-clicking the cell to enter edit mode."
   ]
  },
  {
   "cell_type": "markdown",
   "metadata": {},
   "source": [
    "---\n",
    "\n",
    "## Step 1: Dataset Exploration\n",
    "\n",
    "Visualize the German Traffic Signs Dataset. This is open ended, some suggestions include: plotting traffic signs images, plotting the count of each sign, etc. Be creative!\n",
    "\n",
    "\n",
    "The pickled data is a dictionary with 4 key/value pairs:\n",
    "\n",
    "- features -> the images pixel values, (width, height, channels)\n",
    "- labels -> the label of the traffic sign\n",
    "- sizes -> the original width and height of the image, (width, height)\n",
    "- coords -> coordinates of a bounding box around the sign in the image, (x1, y1, x2, y2). Based the original image (not the resized version)."
   ]
  },
  {
   "cell_type": "code",
   "execution_count": null,
   "metadata": {
    "collapsed": false
   },
   "outputs": [],
   "source": [
    "print('Loading data...')\n",
    "# Load pickled data\n",
    "import pickle\n",
    "\n",
    "training_file = './train.p'\n",
    "testing_file = './test.p'\n",
    "\n",
    "with open(training_file, mode='rb') as f:\n",
    "    train = pickle.load(f)\n",
    "with open(testing_file, mode='rb') as f:\n",
    "    test = pickle.load(f)\n",
    "\n",
    "train_features, train_labels = train['features'], train['labels']\n",
    "test_features, test_labels = test['features'], test['labels']\n",
    "\n",
    "print('Done loading data')"
   ]
  },
  {
   "cell_type": "code",
   "execution_count": null,
   "metadata": {
    "collapsed": false
   },
   "outputs": [],
   "source": [
    "### To start off let's do a basic data summary.\n",
    "n_train = len(train_features)\n",
    "n_test = len(test_features)\n",
    "image_shape = \"{}x{}\".format(len(train_features[0]), len(train_features[0][0]))\n",
    "n_classes = max(train_labels) + 1\n",
    "\n",
    "print(\"Number of training examples =\", n_train)\n",
    "print(\"Number of testing examples =\", n_test)\n",
    "print(\"Image data shape =\", image_shape)\n",
    "print(\"Number of classes =\", n_classes)"
   ]
  },
  {
   "cell_type": "code",
   "execution_count": null,
   "metadata": {
    "collapsed": false
   },
   "outputs": [],
   "source": [
    "### Data exploration visualization goes here.\n",
    "### Feel free to use as many code cells as needed.\n",
    "import matplotlib.pyplot as plt\n",
    "import numpy as np\n",
    "import scipy.ndimage\n",
    "\n",
    "train_features = np.array(train['features'])\n",
    "train_labels = np.array(train['labels'])\n",
    "\n",
    "inputs_per_class = np.bincount(train_labels)\n",
    "max_inputs = np.max(inputs_per_class)\n",
    "\n",
    "mpl_fig = plt.figure()\n",
    "ax = mpl_fig.add_subplot(111)\n",
    "ax.set_ylabel('Inputs')\n",
    "ax.set_xlabel('Class')\n",
    "ax.set_title('Number of inputs per class')\n",
    "ax.bar(range(len(inputs_per_class)), inputs_per_class, 1/3, color='blue', label='Inputs per class')\n",
    "plt.show()\n",
    "\n",
    "for i in range(n_classes):\n",
    "    for j in range(len(train_labels)):\n",
    "        if (i == train_labels[j]):\n",
    "            print('Class: ', i)\n",
    "            plt.imshow(train_features[j])\n",
    "            plt.show()\n",
    "            break\n",
    "\n",
    "print('Data visualisation complete')"
   ]
  },
  {
   "cell_type": "markdown",
   "metadata": {},
   "source": [
    "----\n",
    "\n",
    "## Step 2: Design and Test a Model Architecture\n",
    "\n",
    "Design and implement a deep learning model that learns to recognize traffic signs. Train and test your model on the [German Traffic Sign Dataset](http://benchmark.ini.rub.de/?section=gtsrb&subsection=dataset).\n",
    "\n",
    "There are various aspects to consider when thinking about this problem:\n",
    "\n",
    "- Your model can be derived from a deep feedforward net or a deep convolutional network.\n",
    "- Play around preprocessing techniques (normalization, rgb to grayscale, etc)\n",
    "- Number of examples per label (some have more than others).\n",
    "- Generate fake data.\n",
    "\n",
    "Here is an example of a [published baseline model on this problem](http://yann.lecun.com/exdb/publis/pdf/sermanet-ijcnn-11.pdf). It's not required to be familiar with the approach used in the paper but, it's good practice to try to read papers like these."
   ]
  },
  {
   "cell_type": "markdown",
   "metadata": {},
   "source": [
    "### Implementation\n",
    "\n",
    "Use the code cell (or multiple code cells, if necessary) to implement the first step of your project. Once you have completed your implementation and are satisfied with the results, be sure to thoroughly answer the questions that follow."
   ]
  },
  {
   "cell_type": "code",
   "execution_count": null,
   "metadata": {
    "collapsed": false
   },
   "outputs": [],
   "source": [
    "print('Preprocessing data...')\n",
    "# Generate additional data for underrepresented classes\n",
    "print('Generating additional data...')\n",
    "angles = [-5, 5, -10, 10, -15, 15, -20, 20]\n",
    "\n",
    "for i in range(len(inputs_per_class)):\n",
    "    input_ratio = min(int(max_inputs / inputs_per_class[i]) - 1, len(angles) - 1)\n",
    "\n",
    "    if input_ratio <= 1:\n",
    "        continue\n",
    "\n",
    "    new_features = []\n",
    "    new_labels = []\n",
    "    mask = np.where(train_labels == i)\n",
    "\n",
    "    for j in range(input_ratio):\n",
    "        for feature in train_features[mask]:\n",
    "            new_features.append(scipy.ndimage.rotate(feature, angles[j], reshape=False))\n",
    "            new_labels.append(i)\n",
    "\n",
    "    train_features = np.append(train_features, new_features, axis=0)\n",
    "    train_labels = np.append(train_labels, new_labels, axis=0)\n",
    "\n",
    "# Normalize features\n",
    "print('Normalizing features...')\n",
    "train_features = train_features / 255. * 0.8 + 0.1\n",
    "\n",
    "# Get randomized datasets for training and validation\n",
    "print('Randomizing datasets...')\n",
    "from sklearn.model_selection import train_test_split\n",
    "train_features, valid_features, train_labels, valid_labels = train_test_split(\n",
    "   train_features,\n",
    "   train_labels,\n",
    "   test_size=0.2,\n",
    "   random_state=832289\n",
    ")\n",
    "\n",
    "print('Data preprocessed')"
   ]
  },
  {
   "cell_type": "code",
   "execution_count": null,
   "metadata": {
    "collapsed": false
   },
   "outputs": [],
   "source": [
    "inputs_per_class = np.bincount(train_labels)\n",
    "mpl_fig = plt.figure()\n",
    "ax = mpl_fig.add_subplot(111)\n",
    "ax.set_ylabel('Inputs')\n",
    "ax.set_xlabel('Class')\n",
    "ax.set_title('Number of inputs per class')\n",
    "ax.bar(range(len(inputs_per_class)), inputs_per_class, 1/3, color='blue', label='Inputs per class')\n",
    "plt.show()"
   ]
  },
  {
   "cell_type": "code",
   "execution_count": null,
   "metadata": {
    "collapsed": true
   },
   "outputs": [],
   "source": [
    ""
   ]
  },
  {
   "cell_type": "code",
   "execution_count": null,
   "metadata": {
    "collapsed": false
   },
   "outputs": [],
   "source": [
    "print('Creating network architecture...')\n",
    "import tensorflow as tf\n",
    "# Input dimensions\n",
    "image_width = len(train_features[0][0])\n",
    "image_height = len(train_features[0])\n",
    "color_channels = len(train_features[0][0][0])\n",
    "\n",
    "# Convolutional layer patch and output size\n",
    "filter_width = 3\n",
    "filter_height = 3\n",
    "conv_k_output = 128\n",
    "\n",
    "# Dimension parameters for each fully connected layer\n",
    "fc_params = [\n",
    "    image_width * image_height * conv_k_output,\n",
    "    1024,\n",
    "    1024,\n",
    "    n_classes\n",
    "]\n",
    "\n",
    "# Build weights and biases\n",
    "conv2d_weight = None\n",
    "conv2d_bias = None\n",
    "fc_weights = []\n",
    "fc_biases = []\n",
    "\n",
    "with tf.variable_scope('BONHOMME', reuse=False):\n",
    "    conv2d_weight = tf.get_variable(\"conv2w\", shape=[filter_width, filter_height, color_channels, conv_k_output], initializer=tf.contrib.layers.xavier_initializer())\n",
    "    conv2d_bias = tf.get_variable(\"conv2b\", shape=[conv_k_output], initializer=tf.contrib.layers.xavier_initializer())\n",
    "    \n",
    "    for i in range(len(fc_params) - 1):\n",
    "        fc_weights.append(tf.get_variable('fc_weight' + str(i), shape=[fc_params[i], fc_params[i + 1]], initializer=tf.contrib.layers.xavier_initializer()))\n",
    "        fc_biases.append(tf.get_variable('fc_bias' + str(i), shape=[fc_params[i + 1]], initializer=tf.contrib.layers.xavier_initializer()))\n",
    "\n",
    "# One-hot encoded training and validation labels\n",
    "oh_train_labels = tf.one_hot(train_labels, n_classes).eval(session=tf.Session())\n",
    "oh_valid_labels = tf.one_hot(valid_labels, n_classes).eval(session=tf.Session())\n",
    "\n",
    "# Input placeholders\n",
    "input_ph = tf.placeholder(tf.float32, shape=[None, image_width, image_height, color_channels])\n",
    "labels_ph = tf.placeholder(tf.float32)\n",
    "\n",
    "# Convolutional layer\n",
    "network = tf.nn.conv2d(input_ph, conv2d_weight, strides=[1, 1, 1, 1], padding='SAME')\n",
    "network = tf.nn.bias_add(network, conv2d_bias)\n",
    "network = tf.nn.relu(network)\n",
    "\n",
    "# Fully connected layers\n",
    "for i in range(len(fc_weights)):\n",
    "    network = tf.matmul(tf.contrib.layers.flatten(network), fc_weights[i]) + fc_biases[i]\n",
    "    if i < len(fc_weights) - 1: # No relu after last FC layer\n",
    "        network = tf.nn.relu(network)\n",
    "\n",
    "# Loss computation\n",
    "prediction = tf.nn.softmax(network)\n",
    "cross_entropy = -tf.reduce_sum(labels_ph * tf.log(prediction + 1e-6), reduction_indices=1)\n",
    "loss = tf.reduce_mean(cross_entropy)\n",
    "\n",
    "# Accuracy computation\n",
    "is_correct_prediction = tf.equal(tf.argmax(prediction, 1), tf.argmax(labels_ph, 1))\n",
    "accuracy = tf.reduce_mean(tf.cast(is_correct_prediction, tf.float32))\n",
    "\n",
    "print('Network architecture created')"
   ]
  },
  {
   "cell_type": "code",
   "execution_count": null,
   "metadata": {
    "collapsed": false
   },
   "outputs": [],
   "source": [
    "test_features = np.array(test_features) / 255 * 0.8 + 0.1\n",
    "oh_test_labels = tf.one_hot(test_labels, n_classes).eval(session=tf.Session())\n",
    "print('Test label one hot encoded')"
   ]
  },
  {
   "cell_type": "code",
   "execution_count": null,
   "metadata": {
    "collapsed": false
   },
   "outputs": [],
   "source": [
    "batch_size = 150\n",
    "\n",
    "def run_batch(session, network, features, labels):\n",
    "    batch_count = int(len(features) / batch_size)\n",
    "    accuracy = 0\n",
    "    \n",
    "    for i in range(batch_count):\n",
    "        batch_start = i * batch_size\n",
    "        accuracy += session.run(\n",
    "            network,\n",
    "            feed_dict={\n",
    "                input_ph: features[batch_start:batch_start + batch_size],\n",
    "                labels_ph: labels[batch_start:batch_start + batch_size]\n",
    "            }\n",
    "        )\n",
    "    \n",
    "    return accuracy / batch_count\n",
    "\n",
    "print('Run batch function created')"
   ]
  },
  {
   "cell_type": "code",
   "execution_count": null,
   "metadata": {
    "collapsed": false
   },
   "outputs": [],
   "source": [
    "from tqdm import tqdm\n",
    "\n",
    "training_epochs = 100\n",
    "optimizer = tf.train.AdamOptimizer().minimize(loss)\n",
    "\n",
    "log_batch_step = 100\n",
    "batches = []\n",
    "loss_batch = []\n",
    "train_acc_batch = []\n",
    "valid_acc_batch = []\n",
    "validation_accuracy = 0.0\n",
    "\n",
    "init = tf.global_variables_initializer()\n",
    "\n",
    "session = tf.Session(config=tf.ConfigProto(log_device_placement=True))\n",
    "session.run(init)\n",
    "batch_count = int(len(train_features) / batch_size)\n",
    "\n",
    "for epoch in range(training_epochs):\n",
    "    batches_pbar = tqdm(range(batch_count), desc='Epoch {:>2}/{}'.format(epoch + 1, training_epochs), unit='batches')\n",
    "\n",
    "    # The training cycle\n",
    "    for batch_i in batches_pbar:\n",
    "        batch_start = batch_i * batch_size\n",
    "        batch_features = train_features[batch_start:batch_start + batch_size]\n",
    "        batch_labels = oh_train_labels[batch_start:batch_start + batch_size]\n",
    "\n",
    "        _, l = session.run(\n",
    "            [optimizer, loss],\n",
    "            feed_dict={input_ph: batch_features, labels_ph: batch_labels})\n",
    "\n",
    "        if not batch_i % log_batch_step:\n",
    "            training_accuracy = session.run(\n",
    "                accuracy,\n",
    "                feed_dict={input_ph: batch_features, labels_ph: batch_labels}\n",
    "            )\n",
    "\n",
    "            idx = np.random.randint(len(valid_features), size=int(batch_size * .2))\n",
    "\n",
    "            validation_accuracy = session.run(\n",
    "                accuracy,\n",
    "                feed_dict={input_ph: valid_features[idx,:], labels_ph: oh_valid_labels[idx,:]}\n",
    "            )\n",
    "\n",
    "            # Log batches\n",
    "            previous_batch = batches[-1] if batches else 0\n",
    "            batches.append(log_batch_step + previous_batch)\n",
    "            loss_batch.append(l)\n",
    "            train_acc_batch.append(training_accuracy)\n",
    "            valid_acc_batch.append(validation_accuracy)\n",
    "\n",
    "\n",
    "validation_accuracy = run_batch(session, accuracy, valid_features, oh_valid_labels)    \n",
    "test_accuracy = run_batch(session, accuracy, test_features, oh_test_labels)\n",
    "\n",
    "print('Final validation accuracy: ', validation_accuracy)\n",
    "print('Final test accuracy: ', test_accuracy)\n",
    "loss_plot = plt.subplot(211)\n",
    "loss_plot.set_title('Loss')\n",
    "loss_plot.plot(batches, loss_batch, 'g')\n",
    "loss_plot.set_xlim([batches[0], batches[-1]])\n",
    "acc_plot = plt.subplot(212)\n",
    "acc_plot.set_title('Accuracy')\n",
    "acc_plot.plot(batches, train_acc_batch, 'r', label='Training Accuracy')\n",
    "acc_plot.plot(batches, valid_acc_batch, 'b', label='Validation Accuracy')\n",
    "acc_plot.set_ylim([0, 1.0])\n",
    "acc_plot.set_xlim([batches[0], batches[-1]])\n",
    "acc_plot.legend(loc=4)\n",
    "plt.tight_layout()\n",
    "plt.show()"
   ]
  },
  {
   "cell_type": "code",
   "execution_count": null,
   "metadata": {
    "collapsed": false
   },
   "outputs": [],
   "source": [
    "test_batch_size = 250\n",
    "y_pred_cls = tf.argmax(prediction, dimension=1)\n",
    "test_cls = np.argmax(oh_test_labels, axis=1)\n",
    "from pylab import rcParams\n",
    "from sklearn.metrics import confusion_matrix\n",
    "\n",
    "img_shape = (32, 32, 3)\n",
    "def plot_images(images, cls_true, cls_pred=None):\n",
    "    assert len(images) == len(cls_true) == 9\n",
    "    \n",
    "    fig, axes = plt.subplots(3, 3)\n",
    "    fig.subplots_adjust(hspace=0.3, wspace=0.3)\n",
    "\n",
    "    for i, ax in enumerate(axes.flat):\n",
    "        ax.imshow(images[i].reshape(img_shape), cmap='binary')\n",
    "        if cls_pred is None:\n",
    "            xlabel = \"True: {0}\".format(np.argmax(cls_true[i]))\n",
    "        else:\n",
    "            xlabel = \"True: {0}, Pred: {1}\".format(np.argmax(cls_true[i]), np.argmax(cls_pred[i]))\n",
    "        ax.set_xlabel(xlabel)\n",
    "        ax.set_xticks([])\n",
    "        ax.set_yticks([])\n",
    "    \n",
    "    plt.show()\n",
    "    \n",
    "def plot_confusion_matrix(cls_pred):\n",
    "    cm = confusion_matrix(y_true=test_cls,\n",
    "                          y_pred=cls_pred)\n",
    "\n",
    "    plt.figure(figsize=(40,40))\n",
    "    rcParams['figure.figsize'] = 13, 13\n",
    "    plt.matshow(cm)\n",
    "    plt.colorbar()\n",
    "    tick_marks = np.arange(n_classes)\n",
    "    plt.xticks(tick_marks, range(n_classes))\n",
    "    plt.yticks(tick_marks, range(n_classes))\n",
    "    plt.xlabel('Predicted')\n",
    "    plt.ylabel('True')\n",
    "    plt.show()\n",
    "    \n",
    "\n",
    "def plot_example_errors(cls_pred, correct):\n",
    "\n",
    "    incorrect = (correct == False)    \n",
    "    images = test_features[incorrect]    \n",
    "    cls_pred = cls_pred[incorrect]\n",
    "    cls_true = test_cls[incorrect]    \n",
    "    plot_images(images=images[0:9],\n",
    "                cls_true=cls_true[0:9],\n",
    "                cls_pred=cls_pred[0:9])\n",
    "    \n",
    "def print_test_accuracy(show_example_errors=False,\n",
    "                        show_confusion_matrix=False):\n",
    "\n",
    "    num_test = len(test_features)\n",
    "    cls_pred = np.zeros(shape=num_test, dtype=np.int)\n",
    "    i = 0\n",
    "\n",
    "    while i < num_test:\n",
    "        j = min(i + test_batch_size, num_test)\n",
    "\n",
    "        batch_features = test_features[i:j]\n",
    "        batch_labels = oh_test_labels[i:j]\n",
    "        \n",
    "        feed_dict={input_ph: batch_features, labels_ph: batch_labels}\n",
    "\n",
    "        cls_pred[i:j] = session.run(y_pred_cls, feed_dict=feed_dict)\n",
    "        i = j\n",
    "\n",
    "    correct = (test_cls == cls_pred)\n",
    "    correct_sum = correct.sum()\n",
    "\n",
    "    acc = float(correct_sum) / num_test\n",
    "\n",
    "    msg = \"Accuracy on Test-Set: {0:.1%} ({1} / {2})\"\n",
    "    print(msg.format(acc, correct_sum, num_test))\n",
    "\n",
    "    if show_example_errors:\n",
    "        print(\"Example errors:\")\n",
    "        plot_example_errors(cls_pred=cls_pred, correct=correct)\n",
    "\n",
    "    if show_confusion_matrix:\n",
    "        print(\"Confusion Matrix:\")\n",
    "        plot_confusion_matrix(cls_pred=cls_pred)\n",
    "\n",
    "print_test_accuracy(show_example_errors=False, show_confusion_matrix=True)"
   ]
  },
  {
   "cell_type": "markdown",
   "metadata": {},
   "source": [
    "### Question 1 \n",
    "\n",
    "_Describe the techniques used to preprocess the data._"
   ]
  },
  {
   "cell_type": "markdown",
   "metadata": {},
   "source": [
    "**Answer:**"
   ]
  },
  {
   "cell_type": "code",
   "execution_count": null,
   "metadata": {
    "collapsed": false
   },
   "outputs": [],
   "source": [
    "\"\"\"\n",
    "I noted that some classes were very underrepresented in the training data, some by a 1:9 ratio compared to some others\n",
    "So for these classes, I generated additional data by rotating the pictures by incremental small angles\n",
    "until I had a roughly similar amount of inputs for each class.\n",
    "\n",
    "I then normalized the values between 0.1 and 0.9 since I don't want high variance in the data.\n",
    "It would be way harder for the classifier to tune the learning rate.\n",
    "\n",
    "Finally, as the input was sorted by class, I randomized it to avoid overfitting.\n",
    "\"\"\""
   ]
  },
  {
   "cell_type": "markdown",
   "metadata": {},
   "source": [
    "### Question 2\n",
    "\n",
    "_Describe how you set up the training, validation and testing data for your model. If you generated additional data, why?_"
   ]
  },
  {
   "cell_type": "markdown",
   "metadata": {},
   "source": [
    "**Answer:**"
   ]
  },
  {
   "cell_type": "code",
   "execution_count": null,
   "metadata": {
    "collapsed": false
   },
   "outputs": [],
   "source": [
    "\"\"\"\n",
    "I took 20% of the training data as validation data, which seemed enough to not overfit the data.\n",
    "I didn't use the testing data until I got satisfying results with the network.\n",
    "\"\"\""
   ]
  },
  {
   "cell_type": "markdown",
   "metadata": {},
   "source": [
    "### Question 3\n",
    "\n",
    "_What does your final architecture look like? (Type of model, layers, sizes, connectivity, etc.)  For reference on how to build a deep neural network using TensorFlow, see [Deep Neural Network in TensorFlow\n",
    "](https://classroom.udacity.com/nanodegrees/nd013/parts/fbf77062-5703-404e-b60c-95b78b2f3f9e/modules/6df7ae49-c61c-4bb2-a23e-6527e69209ec/lessons/b516a270-8600-4f93-a0a3-20dfeabe5da6/concepts/83a3a2a2-a9bd-4b7b-95b0-eb924ab14432) from the classroom._\n"
   ]
  },
  {
   "cell_type": "markdown",
   "metadata": {},
   "source": [
    "**Answer:**"
   ]
  },
  {
   "cell_type": "code",
   "execution_count": null,
   "metadata": {
    "collapsed": false
   },
   "outputs": [],
   "source": [
    "\"\"\"\n",
    "First layer is a CNN with a patch size of 3*3, a stride of 1, SAME padding and a depth of 64\n",
    "Second and third layers are fully connected layers with a width of 512\n",
    "The final layer is a fully connected layer with a width of 43 (the amount of classes)\n",
    "\"\"\""
   ]
  },
  {
   "cell_type": "markdown",
   "metadata": {},
   "source": [
    "### Question 4\n",
    "\n",
    "_How did you train your model? (Type of optimizer, batch size, epochs, hyperparameters, etc.)_\n"
   ]
  },
  {
   "cell_type": "markdown",
   "metadata": {},
   "source": [
    "**Answer:**"
   ]
  },
  {
   "cell_type": "code",
   "execution_count": null,
   "metadata": {
    "collapsed": true
   },
   "outputs": [],
   "source": [
    "\"\"\"\n",
    "I used the Adam optimizer with a learning rate of 0.001.\n",
    "I used a batch size of 250 and 30 training epochs.\n",
    "\n",
    "After many tests, the learning rate of 0.001 seemed to learn fast enough without getting stuck in a local minimum.\n",
    "Trial and error also applied for the batch size and the number of epochs.\n",
    "\"\"\""
   ]
  },
  {
   "cell_type": "markdown",
   "metadata": {},
   "source": [
    "### Question 5\n",
    "\n",
    "\n",
    "_What approach did you take in coming up with a solution to this problem?_"
   ]
  },
  {
   "cell_type": "markdown",
   "metadata": {},
   "source": [
    "**Answer:**"
   ]
  },
  {
   "cell_type": "code",
   "execution_count": null,
   "metadata": {
    "collapsed": true
   },
   "outputs": [],
   "source": [
    "\"\"\"\n",
    "I tried adding more convolution networks but they didn't improve the results and increased the computation time by a lot.\n",
    "It didn't feel that necessary to add them as there is a low statistical invariance between the pictures we work on.\n",
    "Most of them are already centered and cropped around the sign.\n",
    "\n",
    "I used a medium sized network as the signs are overall pretty simple in shape and color.\n",
    "I used wide fully connected layers as there are some variations in the sign's shapes, colors and overall appearance.\n",
    "\n",
    "I didn't use more than 30 epochs as the accuracy wasn't improving after that.\n",
    "\n",
    "I also wanted to keep the network light so training it wouldn't take too much time on AWS and the results are satisfying as is.\n",
    "\"\"\""
   ]
  },
  {
   "cell_type": "markdown",
   "metadata": {},
   "source": [
    "---\n",
    "\n",
    "## Step 3: Test a Model on New Images\n",
    "\n",
    "Take several pictures of traffic signs that you find on the web or around you (at least five), and run them through your classifier on your computer to produce example results. The classifier might not recognize some local signs but it could prove interesting nonetheless.\n",
    "\n",
    "You may find `signnames.csv` useful as it contains mappings from the class id (integer) to the actual sign name."
   ]
  },
  {
   "cell_type": "markdown",
   "metadata": {},
   "source": [
    "### Implementation\n",
    "\n",
    "Use the code cell (or multiple code cells, if necessary) to implement the first step of your project. Once you have completed your implementation and are satisfied with the results, be sure to thoroughly answer the questions that follow."
   ]
  },
  {
   "cell_type": "code",
   "execution_count": null,
   "metadata": {
    "collapsed": false
   },
   "outputs": [],
   "source": [
    "### Load the images and plot them here.\n",
    "### Feel free to use as many code cells as needed.\n",
    "import matplotlib.image as mpimg\n",
    "\n",
    "imgs = ['20.png', '80.png', 'exclamation.png', 'hochwasser.png', 'priority.png']\n",
    "\n",
    "new_input = []\n",
    "\n",
    "for imgname in imgs:\n",
    "    image = mpimg.imread('images/' + imgname)\n",
    "    new_input.append(image)\n",
    "    plt.imshow(image)\n",
    "    plt.show()"
   ]
  },
  {
   "cell_type": "markdown",
   "metadata": {},
   "source": [
    "### Question 6\n",
    "\n",
    "_Choose five candidate images of traffic signs and provide them in the report. Are there any particular qualities of the image(s) that might make classification difficult? It would be helpful to plot the images in the notebook._\n",
    "\n"
   ]
  },
  {
   "cell_type": "markdown",
   "metadata": {},
   "source": [
    "**Answer:**"
   ]
  },
  {
   "cell_type": "code",
   "execution_count": null,
   "metadata": {
    "collapsed": false
   },
   "outputs": [],
   "source": [
    "\"\"\"\n",
    "The first 3 signs were chosen because they look similar to images from the database.\n",
    "I wanted to see if they would get classified correctly.\n",
    "The 'zone' text in the first image is also interesting to see if the network will be bothered by it.\n",
    "The two last signs were not in our dataset. I wanted to see how the network would behave against them.\n",
    "\"\"\""
   ]
  },
  {
   "cell_type": "code",
   "execution_count": null,
   "metadata": {
    "collapsed": false
   },
   "outputs": [],
   "source": [
    "### Run the predictions here.\n",
    "### Feel free to use as many code cells as needed.\n",
    "\n",
    "new_predictions = session.run(prediction, feed_dict={input_ph: new_input})"
   ]
  },
  {
   "cell_type": "markdown",
   "metadata": {},
   "source": [
    "### Question 7\n",
    "\n",
    "_Is your model able to perform equally well on captured pictures or a live camera stream when compared to testing on the dataset?_\n"
   ]
  },
  {
   "cell_type": "markdown",
   "metadata": {},
   "source": [
    "**Answer:**"
   ]
  },
  {
   "cell_type": "code",
   "execution_count": null,
   "metadata": {
    "collapsed": true
   },
   "outputs": [],
   "source": [
    "\"\"\"\n",
    "The 4th sign was (obviously) wrongly recognized with a confidence of 80% as a No entry sign.\n",
    "The 5th sign was (obviously) wrongly recognized with a confidence of 99% as a speed limit.\n",
    "The model should do better than that.\n",
    "\n",
    "The network behaves better with the data from the dataset obviously, but it generalizes all right to other images.\n",
    "For example the first 3 signs were recognized.\n",
    "Although the 99% confidence on the 5th sign is disappointing.\n",
    "\"\"\""
   ]
  },
  {
   "cell_type": "code",
   "execution_count": null,
   "metadata": {
    "collapsed": false
   },
   "outputs": [],
   "source": [
    "### Visualize the softmax probabilities here.\n",
    "### Feel free to use as many code cells as needed.\n",
    "print(new_predictions)"
   ]
  },
  {
   "cell_type": "markdown",
   "metadata": {},
   "source": [
    "### Question 8\n",
    "\n",
    "*Use the model's softmax probabilities to visualize the **certainty** of its predictions, [`tf.nn.top_k`](https://www.tensorflow.org/versions/r0.11/api_docs/python/nn.html#top_k) could prove helpful here. Which predictions is the model certain of? Uncertain? If the model was incorrect in its initial prediction, does the correct prediction appear in the top k? (k should be 5 at most)*\n"
   ]
  },
  {
   "cell_type": "markdown",
   "metadata": {},
   "source": [
    "**Answer:**"
   ]
  },
  {
   "cell_type": "code",
   "execution_count": null,
   "metadata": {
    "collapsed": false
   },
   "outputs": [],
   "source": [
    "print(session.run(tf.nn.top_k(prediction, 2), feed_dict={input_ph: new_input}))\n",
    "\n",
    "\"\"\"\n",
    "The model is pretty certain of all of its results except for one where it's only at 88% certainty.\n",
    "When the model is wrong, the correct answer does not appear in the top 2. Prediction certainty after class 2 are meaningless so we don't analyze them.\n",
    "\"\"\""
   ]
  },
  {
   "cell_type": "markdown",
   "metadata": {},
   "source": [
    "### Question 9\n",
    "_If necessary, provide documentation for how an interface was built for your model to load and classify newly-acquired images._\n"
   ]
  },
  {
   "cell_type": "markdown",
   "metadata": {},
   "source": [
    "**Answer:**"
   ]
  },
  {
   "cell_type": "markdown",
   "metadata": {},
   "source": [
    "> **Note**: Once you have completed all of the code implementations and successfully answered each question above, you may finalize your work by exporting the iPython Notebook as an HTML document. You can do this by using the menu above and navigating to  \\n\",\n",
    "    \"**File -> Download as -> HTML (.html)**. Include the finished document along with this notebook as your submission."
   ]
  },
  {
   "cell_type": "code",
   "execution_count": null,
   "metadata": {
    "collapsed": true
   },
   "outputs": [],
   "source": [
    ""
   ]
  }
 ],
 "metadata": {
  "anaconda-cloud": {},
  "kernelspec": {
   "display_name": "Python 3",
   "language": "python",
   "name": "python3"
  },
  "language_info": {
   "codemirror_mode": {
    "name": "ipython",
    "version": 3.0
   },
   "file_extension": ".py",
   "mimetype": "text/x-python",
   "name": "python",
   "nbconvert_exporter": "python",
   "pygments_lexer": "ipython3",
   "version": "3.5.2"
  }
 },
 "nbformat": 4,
 "nbformat_minor": 0
}